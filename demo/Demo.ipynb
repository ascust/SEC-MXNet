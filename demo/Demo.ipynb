{
 "cells": [
  {
   "cell_type": "code",
   "execution_count": null,
   "metadata": {},
   "outputs": [],
   "source": [
    "import sys\n",
    "import os\n",
    "sys.path.append(\"..\")\n",
    "from cores.utils.CRF import CRF\n",
    "from cores.utils import misc\n",
    "from cores.data.data_utils import get_cmap\n",
    "import numpy as np\n",
    "import mxnet as mx\n",
    "from PIL import Image\n",
    "import matplotlib.pyplot as plt\n",
    "from matplotlib.colors import LinearSegmentedColormap\n",
    "from cores.config import conf\n",
    "%matplotlib inline"
   ]
  },
  {
   "cell_type": "code",
   "execution_count": null,
   "metadata": {},
   "outputs": [],
   "source": [
    "IM_PATH = \"2007_000129.jpg\"\n",
    "BASE_NET = \"resnet50\" #choose vgg16 or resnet50\n",
    "EPOCH_NUM = 8\n",
    "USE_CRF = True\n",
    "CTX = mx.gpu(0) #gpu index\n",
    "\n",
    "#colormap\n",
    "cmap = get_cmap()\n",
    "cmap = LinearSegmentedColormap.from_list(\"my_colormap\", cmap.reshape(-1, 3)/255.)\n",
    "\n",
    "#crf object\n",
    "crf = CRF(pos_xy_std=conf.CRF_POS_XY_STD, pos_w=conf.CRF_POS_W, bi_xy_std=conf.CRF_BI_XY_STD,\n",
    "              bi_rgb_std=conf.CRF_BI_RGB_STD, bi_w=conf.CRF_BI_W)\n",
    "\n",
    "#preprocessing\n",
    "ori_im = Image.open(IM_PATH)\n",
    "im_w, im_h = ori_im.size\n",
    "im = ori_im.resize((conf.INPUT_SIZE_SEC, conf.INPUT_SIZE_SEC), Image.BILINEAR)\n",
    "im_arr = np.array(im).astype(np.float32)\n",
    "im_arr -= np.array(conf.MEAN_RGB).reshape(1, 1, 3)\n",
    "im_arr = np.expand_dims(im_arr.transpose([2, 0, 1]), 0)\n",
    "\n",
    "#Initialize network\n",
    "model_name = \"SEC_%s\" % BASE_NET\n",
    "exec (\"import cores.symbols.\" + model_name + \" as net\")\n",
    "seg_net = net.create_infer(conf.CLASS_NUM, conf.WORKSPACE)\n",
    "seg_net_prefix = os.path.join(\"..\", conf.SNAPSHOT_FOLDER, model_name)\n",
    "arg_dict, aux_dict, _ = misc.load_checkpoint(seg_net_prefix, EPOCH_NUM)\n",
    "\n",
    "mod = mx.mod.Module(seg_net, data_names=[\"data\"], label_names=[], context=CTX)\n",
    "mod.bind(data_shapes=[(\"data\", (1, 3, conf.INPUT_SIZE_SEC, conf.INPUT_SIZE_SEC))],\n",
    "         for_training=False, grad_req=\"null\")\n",
    "initializer = mx.init.Normal()\n",
    "mod.init_params(initializer=initializer, arg_params=arg_dict, aux_params=aux_dict, allow_missing=False)\n",
    "\n",
    "#do forward and get prediction\n",
    "mod.forward(mx.io.DataBatch(data=[mx.nd.array(im_arr)]))\n",
    "score = mx.nd.transpose(mod.get_outputs()[0].copyto(mx.cpu()), [0, 2, 3, 1])\n",
    "score = mx.nd.reshape(score, (score.shape[1], score.shape[2], score.shape[3]))\n",
    "up_score = mx.nd.transpose(mx.image.imresize(score, im_w, im_h, interp=1), [2, 0, 1])\n",
    "\n",
    "if USE_CRF:\n",
    "    final_scoremaps = mx.nd.log(up_score).asnumpy()\n",
    "    final_scoremaps = crf.inference(np.array(ori_im), final_scoremaps)\n",
    "else:\n",
    "    final_scoremaps = up_score.asnumpy()\n",
    "pred_label = final_scoremaps.argmax(0)\n",
    "\n",
    "#show results\n",
    "fig = plt.figure(figsize=(10, 10))\n",
    "ax = fig.add_subplot(121)\n",
    "ax.imshow(ori_im)\n",
    "ax = fig.add_subplot(122)\n",
    "ax.matshow(pred_label, vmin=0, vmax=255, cmap=cmap)\n",
    "\n"
   ]
  },
  {
   "cell_type": "code",
   "execution_count": null,
   "metadata": {
    "collapsed": true
   },
   "outputs": [],
   "source": []
  }
 ],
 "metadata": {
  "kernelspec": {
   "display_name": "Python 2",
   "language": "python",
   "name": "python2"
  },
  "language_info": {
   "codemirror_mode": {
    "name": "ipython",
    "version": 2
   },
   "file_extension": ".py",
   "mimetype": "text/x-python",
   "name": "python",
   "nbconvert_exporter": "python",
   "pygments_lexer": "ipython2",
   "version": "2.7.13"
  }
 },
 "nbformat": 4,
 "nbformat_minor": 2
}
